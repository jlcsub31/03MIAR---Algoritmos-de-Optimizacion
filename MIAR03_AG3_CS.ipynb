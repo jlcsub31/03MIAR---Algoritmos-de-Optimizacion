{
  "nbformat": 4,
  "nbformat_minor": 0,
  "metadata": {
    "colab": {
      "provenance": [],
      "toc_visible": true
    },
    "kernelspec": {
      "name": "python3",
      "display_name": "Python 3"
    },
    "language_info": {
      "name": "python"
    }
  },
  "cells": [
    {
      "cell_type": "markdown",
      "source": [
        "José Luis Calvo Subirá\n",
        "\n",
        "GITHUB: https://github.com/jlcsub31/03MIAR---Algoritmos-de-Optimizacion\n",
        "\n",
        "https://colab.research.google.com/drive/1nTV897pNdTKOLFeKNfB9Kyj7CbHiuyf2?usp=sharing"
      ],
      "metadata": {
        "id": "D26abj8rpccV"
      }
    },
    {
      "cell_type": "code",
      "source": [
        "# Carga de librerías\n",
        "\n",
        "!pip install requests    #Hacer llamadas http a paginas de la red\n",
        "!pip install tsplib95    #Modulo para las instancias del problema del TSP"
      ],
      "metadata": {
        "colab": {
          "base_uri": "https://localhost:8080/"
        },
        "id": "_hILWw94ptYw",
        "outputId": "f3aab8ca-5355-44f4-9193-cf44664a4ad8"
      },
      "execution_count": null,
      "outputs": [
        {
          "output_type": "stream",
          "name": "stdout",
          "text": [
            "Looking in indexes: https://pypi.org/simple, https://us-python.pkg.dev/colab-wheels/public/simple/\n",
            "Requirement already satisfied: requests in /usr/local/lib/python3.8/dist-packages (2.25.1)\n",
            "Requirement already satisfied: idna<3,>=2.5 in /usr/local/lib/python3.8/dist-packages (from requests) (2.10)\n",
            "Requirement already satisfied: chardet<5,>=3.0.2 in /usr/local/lib/python3.8/dist-packages (from requests) (4.0.0)\n",
            "Requirement already satisfied: certifi>=2017.4.17 in /usr/local/lib/python3.8/dist-packages (from requests) (2022.12.7)\n",
            "Requirement already satisfied: urllib3<1.27,>=1.21.1 in /usr/local/lib/python3.8/dist-packages (from requests) (1.24.3)\n",
            "Looking in indexes: https://pypi.org/simple, https://us-python.pkg.dev/colab-wheels/public/simple/\n",
            "Collecting tsplib95\n",
            "  Downloading tsplib95-0.7.1-py2.py3-none-any.whl (25 kB)\n",
            "Requirement already satisfied: tabulate~=0.8.7 in /usr/local/lib/python3.8/dist-packages (from tsplib95) (0.8.10)\n",
            "Collecting Deprecated~=1.2.9\n",
            "  Downloading Deprecated-1.2.13-py2.py3-none-any.whl (9.6 kB)\n",
            "Requirement already satisfied: Click>=6.0 in /usr/local/lib/python3.8/dist-packages (from tsplib95) (7.1.2)\n",
            "Collecting networkx~=2.1\n",
            "  Downloading networkx-2.8.8-py3-none-any.whl (2.0 MB)\n",
            "\u001b[2K     \u001b[90m━━━━━━━━━━━━━━━━━━━━━━━━━━━━━━━━━━━━━━━━\u001b[0m \u001b[32m2.0/2.0 MB\u001b[0m \u001b[31m67.7 MB/s\u001b[0m eta \u001b[36m0:00:00\u001b[0m\n",
            "\u001b[?25hRequirement already satisfied: wrapt<2,>=1.10 in /usr/local/lib/python3.8/dist-packages (from Deprecated~=1.2.9->tsplib95) (1.14.1)\n",
            "Installing collected packages: networkx, Deprecated, tsplib95\n",
            "  Attempting uninstall: networkx\n",
            "    Found existing installation: networkx 3.0\n",
            "    Uninstalling networkx-3.0:\n",
            "      Successfully uninstalled networkx-3.0\n",
            "Successfully installed Deprecated-1.2.13 networkx-2.8.8 tsplib95-0.7.1\n"
          ]
        }
      ]
    },
    {
      "cell_type": "code",
      "source": [
        "# IMPORTS\n",
        "\n",
        "import urllib.request\n",
        "import tsplib95\n",
        "import math\n",
        "import random\n",
        "from functools import reduce\n",
        "from itertools import accumulate"
      ],
      "metadata": {
        "id": "wviklikYp0sK"
      },
      "execution_count": null,
      "outputs": []
    },
    {
      "cell_type": "code",
      "source": [
        "#Descargamos el fichero de datos(Matriz de distancias)\n",
        "file = \"swiss42.tsp\" ; \n",
        "urllib.request.urlretrieve(\"http://comopt.ifi.uni-heidelberg.de/software/TSPLIB95/tsp/swiss42.tsp.gz\", file + '.gz')\n",
        "!gzip -d swiss42.tsp.gz     #Descomprimir el fichero de datos "
      ],
      "metadata": {
        "id": "S9opuD3FqHX0"
      },
      "execution_count": null,
      "outputs": []
    },
    {
      "cell_type": "code",
      "source": [
        "#Cargamos los datos del problema\n",
        "problem = tsplib95.load(file)\n",
        "\n",
        "#Comprobacion de la funcion de pesos\n",
        "\n",
        "#peso de la arista que une el nodo i con el nodo j\n",
        "problem.get_weight(0,1)\n",
        "\n",
        "#Nodos\n",
        "#nodos = list(problem.get_nodes())\n",
        "\n",
        "#Aristas\n",
        "#arista = list(problem.get_edges())\n"
      ],
      "metadata": {
        "colab": {
          "base_uri": "https://localhost:8080/"
        },
        "id": "kEgSFfGDri63",
        "outputId": "48d6e393-fb47-40c0-9abf-314dbf1d87d8"
      },
      "execution_count": null,
      "outputs": [
        {
          "output_type": "execute_result",
          "data": {
            "text/plain": [
              "15"
            ]
          },
          "metadata": {},
          "execution_count": 7
        }
      ]
    },
    {
      "cell_type": "markdown",
      "source": [
        "#FUNCIONES BÁSICAS"
      ],
      "metadata": {
        "id": "M2xSneWa0f9_"
      }
    },
    {
      "cell_type": "code",
      "source": [
        "#Funcionas basicas\n",
        "###############################################################################      \n",
        "\n",
        "def crear_solucion(Nodos):\n",
        "  '''\n",
        "  Crea una solucion aleatoria\n",
        "\n",
        "  Arguments:\n",
        "    Nodos: conjunto de nodos a partir de los cuales se quiere obtener una solucion\n",
        "    aleatoria\n",
        "  \n",
        "  Returns:\n",
        "    Solucion aleatoria\n",
        "  '''\n",
        "\n",
        "  # Se realiza una copia ya que random.shuffle realiza la reordenacion inplace\n",
        "  res = Nodos[:]\n",
        "  random.shuffle(res)\n",
        "\n",
        "  return res \n",
        "\n",
        "#Devuelve la distancia entre dos nodos\n",
        "def distancia(a,b, problem):\n",
        "  '''\n",
        "  Devuelve la distancia entre dos nodos\n",
        "\n",
        "  Arguments:\n",
        "    a: nodo i\n",
        "    b: nodo j\n",
        "    problem: matriz de pesos del sistema\n",
        "\n",
        "  Returns:\n",
        "    Distancia (peso) entre los nodos i y j\n",
        "  '''\n",
        "  return problem.get_weight(a,b)\n",
        "\n",
        "#Devuelve la distancia total de una trayectoria/solucion\n",
        "def distancia_total(solucion, problem):\n",
        "  '''\n",
        "  Calcula la distancia total de un trayectoria compuesta por diferentes nodos de \n",
        "  la red\n",
        "\n",
        "  Arguments:\n",
        "    solucion: conjunto de nodos\n",
        "    problem: matriz de pesos del sistema\n",
        "  \n",
        "  Returns:\n",
        "    Distancia acumulada resultante de recorror los nodos que componen la solucion\n",
        "  '''\n",
        "  res = 0\n",
        "  for i in range(len(solucion)-1):\n",
        "    res += distancia(solucion[i] ,solucion[i+1] ,  problem)\n",
        "  return res + distancia(solucion[len(solucion)-1] ,solucion[0], problem)"
      ],
      "metadata": {
        "id": "_DtiqXONzg0l"
      },
      "execution_count": null,
      "outputs": []
    },
    {
      "cell_type": "code",
      "source": [
        "#Test de crear_solucion:\n",
        "\n",
        "nodos_tsp = list(problem.get_nodes())\n",
        "print(nodos_tsp)\n",
        "print(crear_solucion(nodos_tsp))"
      ],
      "metadata": {
        "colab": {
          "base_uri": "https://localhost:8080/"
        },
        "id": "ThHCO15Vy9cN",
        "outputId": "d2bce5d6-43b3-4f3f-8f4e-fae410c8aac3"
      },
      "execution_count": null,
      "outputs": [
        {
          "output_type": "stream",
          "name": "stdout",
          "text": [
            "[0, 1, 2, 3, 4, 5, 6, 7, 8, 9, 10, 11, 12, 13, 14, 15, 16, 17, 18, 19, 20, 21, 22, 23, 24, 25, 26, 27, 28, 29, 30, 31, 32, 33, 34, 35, 36, 37, 38, 39, 40, 41]\n",
            "[5, 36, 1, 37, 33, 0, 3, 31, 9, 41, 22, 20, 4, 30, 13, 7, 23, 25, 40, 29, 18, 10, 24, 16, 6, 17, 14, 2, 38, 19, 12, 35, 27, 28, 26, 34, 15, 32, 8, 11, 21, 39]\n"
          ]
        }
      ]
    },
    {
      "cell_type": "code",
      "source": [
        "#test de distancia:\n",
        "\n",
        "print(distancia(0,1,problem))"
      ],
      "metadata": {
        "colab": {
          "base_uri": "https://localhost:8080/"
        },
        "id": "r4Cr8Dqy3s40",
        "outputId": "2b1cc93f-9d3d-4797-d65b-1b1aca9226cd"
      },
      "execution_count": null,
      "outputs": [
        {
          "output_type": "stream",
          "name": "stdout",
          "text": [
            "15\n"
          ]
        }
      ]
    },
    {
      "cell_type": "code",
      "source": [
        "# test de distancia_total:\n",
        "\n",
        "distancia_total([0, 6, 10, 3], problem)"
      ],
      "metadata": {
        "colab": {
          "base_uri": "https://localhost:8080/"
        },
        "id": "sTycJzU_4-tK",
        "outputId": "081ee638-652f-464e-ac39-6cbb41f30a8e"
      },
      "execution_count": null,
      "outputs": [
        {
          "output_type": "execute_result",
          "data": {
            "text/plain": [
              "200"
            ]
          },
          "metadata": {},
          "execution_count": 21
        }
      ]
    },
    {
      "cell_type": "code",
      "source": [
        "# test funciones:\n",
        "ruta_aleatoria = crear_solucion(nodos_tsp)\n",
        "distancia_total(ruta_aleatoria, problem)"
      ],
      "metadata": {
        "colab": {
          "base_uri": "https://localhost:8080/"
        },
        "id": "5T6Yl_1A5g8s",
        "outputId": "ca65f023-7c73-4ad1-eaa2-2a00f2c911f0"
      },
      "execution_count": null,
      "outputs": [
        {
          "output_type": "execute_result",
          "data": {
            "text/plain": [
              "4991"
            ]
          },
          "metadata": {},
          "execution_count": 38
        }
      ]
    },
    {
      "cell_type": "markdown",
      "source": [
        "# BÚSQUEDA ALEATORIA\n",
        "\n",
        "1. La función debe aceptar un parámetro que indique el número de iteraciones a realizar (N). Esta restricción del número de iteraciones constituye el criterio de parada.\n",
        "1. Se inicializa la mejor solución a un valor vacío, y la distancia de dicha solución a un ridiculamente elevado.\n",
        "2. Para cada iteración, se genera una solución aleatoria a través de la función \"crear_solucion\" previamente definida.\n",
        "3. Se calcula la distancia de la solución generada, si ésta es menor que la distancia de la mejor solución vigente hasta el momento, la primera pasa a ser la mejor solución\n",
        "4. Una vez finalizadas las N iteraciones, se devuelve la mejor solución obtenida. Es importante destacar que puede no ser la óptima, de hecho es probable que no lo sea."
      ],
      "metadata": {
        "id": "Akzw9u7a-CrX"
      }
    },
    {
      "cell_type": "code",
      "source": [
        "def busqueda_aleatoria(problem, N):\n",
        "  #N es el numero de iteraciones\n",
        "  Nodos = list(problem.get_nodes())\n",
        "  \n",
        "  mejor_solucion = []\n",
        "  mejor_distancia = float('inf')  #Inicializamos con un valor alto\n",
        "  \n",
        "  for i in range(N):\n",
        "    #solucion aleatoria\n",
        "    solucion = crear_solucion(Nodos)\n",
        "    #distancia de la solucion aleatoria\n",
        "    distancia = distancia_total(solucion, problem)\n",
        "    \n",
        "    #Compara la distancia de la nueva solucion generada \n",
        "    #con la mejor obtenida hasta ahora\n",
        "    if distancia < mejor_distancia:                 \n",
        "      mejor_solucion = solucion\n",
        "      mejor_distancia = distancia\n",
        "      \n",
        "  return mejor_solucion, mejor_distancia\n",
        "  \n",
        "sol, dist = busqueda_aleatoria(problem, 10000)\n",
        "\n",
        "print(sol)\n",
        "print(dist)"
      ],
      "metadata": {
        "colab": {
          "base_uri": "https://localhost:8080/"
        },
        "id": "UW3bKsTE64Ag",
        "outputId": "ee7aa437-504d-4f9b-d6d2-7fae3278c135"
      },
      "execution_count": null,
      "outputs": [
        {
          "output_type": "stream",
          "name": "stdout",
          "text": [
            "[33, 0, 32, 37, 10, 19, 17, 28, 27, 3, 4, 6, 7, 14, 26, 9, 21, 16, 13, 5, 34, 20, 30, 24, 22, 23, 41, 29, 12, 31, 35, 15, 36, 1, 39, 25, 18, 8, 11, 40, 2, 38]\n",
            "3703\n"
          ]
        }
      ]
    },
    {
      "cell_type": "markdown",
      "source": [
        "De la documentación hemos sabido que la mejor solución encontrada suponía una distancia de 1273. Con un total de 10000 iteraciones la mínima distancia lograda ha sido de 3510, muy alejada de la mejor solución encontrada. El motivo reside en que este algoritmo busca soluciones aleatorias en un espacio de soluciones inmensamente grande, recordemos que existen $n!/2$ soluciones. En consecuencia, es muy poco probable alcanzar una solución cercana a la óptima."
      ],
      "metadata": {
        "id": "BqLPIKyFBPTT"
      }
    },
    {
      "cell_type": "markdown",
      "source": [
        "# BÚSQUEDA LOCAL\n",
        "\n",
        "1. Solución inicial: se usará la función busqueda_aleatoria para obtener una solución aleatoria más aceptable de lo que sería una solución calculada con la función crear_solucion únicamente. \n",
        "2. Se debe implementar un operador que genere soluciones vecinas. Partiendo de una solución, se intercambiarán los nodos dos a dos. Las soluciones vecinas resultantes serán evaluadas, si alguna de ellas representa una mejoría respecto a la solucíon actual, dicha solución vecina pasará a ser la mejor solución hasta el momento.\n",
        "3. Criterio de parada, dos opciones.\n",
        "  - Se fija el número de iteraciones\n",
        "  - Se comprueba si se han obtenido mejores soluciones. En caso negativo, se detiene el proceso y se retorna la mejor solución encotrada hasta el momento"
      ],
      "metadata": {
        "id": "w9ZIz3XgCEHD"
      }
    },
    {
      "cell_type": "code",
      "source": [
        "def genera_vecina(solucion):\n",
        "  mejor_solucion = []\n",
        "  mejor_distancia = 10e100\n",
        "  for i in range(1,len(solucion)-1):\n",
        "    for j in range(i+1, len(solucion)):\n",
        "      \n",
        "      #Se intercambian los nodos i y j\n",
        "      vecina = solucion[:i] + [solucion[j]] + solucion[i+1:j] + [solucion[i]] + solucion[j+1:]   \n",
        "\n",
        "      #Se evalua la nueva solución\n",
        "      distancia_vecina = distancia_total(vecina, problem)         \n",
        "\n",
        "      #\n",
        "      if distancia_vecina <= mejor_distancia:\n",
        "        mejor_distancia = distancia_vecina\n",
        "        mejor_solucion = vecina\n",
        "  return mejor_solucion\n",
        "\n",
        "\n",
        "print(\"Distancia Solucion Incial:\" , distancia_total(sol, problem))\n",
        " \n",
        "\n",
        "nueva_solucion = genera_vecina(sol)\n",
        "print(\"Distancia Mejor Solucion Local:\", distancia_total(nueva_solucion, problem))\n"
      ],
      "metadata": {
        "colab": {
          "base_uri": "https://localhost:8080/"
        },
        "id": "m68QifRrAbnX",
        "outputId": "beb132c8-d1f1-4fd1-f534-1df2b896bdfb"
      },
      "execution_count": null,
      "outputs": [
        {
          "output_type": "stream",
          "name": "stdout",
          "text": [
            "Distancia Solucion Incial: 3703\n",
            "Distancia Mejor Solucion Local: 3422\n"
          ]
        }
      ]
    },
    {
      "cell_type": "code",
      "source": [
        "#Busqueda Local:\n",
        "def busqueda_local(problem):\n",
        "  mejor_solucion = []\n",
        "  \n",
        "  #Se genera la solución inicial mediante la búsqueda aleatoria\n",
        "  solucion_referencia, mejor_distancia = busqueda_aleatoria(problem, 10000)\n",
        "\n",
        "  iteracion=0             #Un contador para saber las iteraciones que hacemos\n",
        "  while(1):\n",
        "    iteracion +=1         #Incrementamos el contador\n",
        "\n",
        "    #Obtenemos la mejor vecina\n",
        "    vecina = genera_vecina(solucion_referencia)\n",
        "\n",
        "    #evaluamos para ver si mejoramos respecto a lo encontrado hasta el momento\n",
        "    #Si no mejoramos, se termina el proceso. CRITERIO DE PARADA.\n",
        "    distancia_vecina = distancia_total(vecina, problem)\n",
        "    if distancia_vecina < mejor_distancia:\n",
        "      #mejor_solucion = copy.deepcopy(vecina)   #Con copia profunda. Las copias en python son por referencia \n",
        "      mejor_solucion = vecina                   #Guarda la mejor solución encontrada\n",
        "      mejor_distancia = distancia_vecina\n",
        "\n",
        "    else:\n",
        "      print(\"En la iteracion \", iteracion, \", la mejor solución encontrada es:\" , mejor_solucion) \n",
        "      print(\"Distancia     :\" , mejor_distancia) \n",
        "      return mejor_solucion\n",
        "      \n",
        "    solucion_referencia = vecina\n",
        " \n",
        " \n",
        "sol_busqueda_local = busqueda_local(problem)"
      ],
      "metadata": {
        "colab": {
          "base_uri": "https://localhost:8080/"
        },
        "id": "xIAZWILOEuKz",
        "outputId": "84116f16-5c70-4091-e7c4-f3dcd1e55627"
      },
      "execution_count": null,
      "outputs": [
        {
          "output_type": "stream",
          "name": "stdout",
          "text": [
            "En la iteracion  41 , la mejor solución encontrada es: [35, 36, 17, 19, 13, 12, 11, 25, 41, 23, 10, 18, 14, 16, 15, 37, 7, 1, 3, 8, 9, 29, 28, 27, 2, 4, 26, 5, 6, 0, 20, 33, 34, 32, 30, 22, 39, 21, 40, 24, 38, 31]\n",
            "Distancia     : 1791\n"
          ]
        }
      ]
    },
    {
      "cell_type": "markdown",
      "source": [
        "Se aprecia claramente que la búsqueda local ofrece una mejoría respecto a la búsqueda aleatoria. Con un operador de vecindad de intercambio de dos nodos, y partiendo de una solución inicial generada a través de búsqueda aleatoria, somos capaces de encontrar una solución con una distancia toal de 1749 en 34 iteraciones."
      ],
      "metadata": {
        "id": "iVq8vQslKqgQ"
      }
    },
    {
      "cell_type": "markdown",
      "source": [
        "## MEJORAS BÚSQUEDA LOCAL\n",
        "\n",
        "Si bien la búsqueda local ofrece buenas prestaciones en búsquedas intensificadas, es decir, analizando el área local de las soluciones, una de sus desventajas es la exploración de áreas no conocidas, concepto denominado diversificación.\n",
        "\n",
        "Dos posibles mejoras respecto a la falta de diversificación pueden ser:\n",
        "- Entorno de vecindad variable\n",
        "- Multiarranque"
      ],
      "metadata": {
        "id": "LjZc_hEpKwa4"
      }
    },
    {
      "cell_type": "markdown",
      "source": [
        "### BÚSQUEDA LOCAL + MULTIARRANQUE"
      ],
      "metadata": {
        "id": "91w3l3CylqYi"
      }
    },
    {
      "cell_type": "code",
      "source": [
        "#Busqueda Local:\n",
        "def busqueda_local_multiarranque(problem, n_arranques = 5):\n",
        "  mejor_solucion = []\n",
        "  mejor_distancia = float('inf')\n",
        "  i = n_arranques\n",
        "  while(i>0):\n",
        "    print(f\"MULTIARRANQUE {i}\")\n",
        "    #En cada iteracion, busqueda local usara una solucion inicial distinta\n",
        "    sol_busqueda_local_parcial = busqueda_local(problem)\n",
        "    distancia = distancia_total(sol_busqueda_local_parcial, problem)\n",
        "    print(distancia)\n",
        "    if distancia < mejor_distancia:\n",
        "        mejor_solucion = sol_busqueda_local_parcial\n",
        "        mejor_distancia = distancia\n",
        "    i = i-1;\n",
        "\n",
        "  return mejor_solucion, mejor_distancia\n",
        " \n",
        " \n",
        "sol_busqueda_local_multiarranque, mejor_distancia_multiarranque = busqueda_local_multiarranque(problem, 10)\n",
        "\n",
        "print(\"Mejor solución: \", sol_busqueda_local_multiarranque)\n",
        "\n",
        "print(\"Distancia: \", mejor_distancia_multiarranque)"
      ],
      "metadata": {
        "colab": {
          "base_uri": "https://localhost:8080/"
        },
        "id": "N7qegGlPHuNQ",
        "outputId": "2a0d483a-e0b2-48e1-dd2c-6a9fc09d5f86"
      },
      "execution_count": null,
      "outputs": [
        {
          "output_type": "stream",
          "name": "stdout",
          "text": [
            "MULTIARRANQUE 10\n",
            "En la iteracion  41 , la mejor solución encontrada es: [34, 39, 21, 24, 40, 23, 41, 5, 16, 15, 37, 17, 31, 36, 35, 20, 33, 38, 22, 9, 8, 2, 3, 1, 6, 4, 27, 28, 30, 29, 10, 25, 11, 12, 18, 26, 13, 19, 14, 7, 0, 32]\n",
            "Distancia     : 1718\n",
            "1718\n",
            "MULTIARRANQUE 9\n",
            "En la iteracion  29 , la mejor solución encontrada es: [26, 18, 12, 11, 4, 3, 0, 7, 15, 16, 14, 1, 27, 2, 8, 41, 23, 40, 24, 38, 22, 39, 21, 9, 30, 32, 34, 33, 20, 35, 36, 31, 17, 37, 19, 13, 5, 6, 28, 29, 10, 25]\n",
            "Distancia     : 1712\n",
            "1712\n",
            "MULTIARRANQUE 8\n",
            "En la iteracion  31 , la mejor solución encontrada es: [17, 3, 27, 2, 28, 30, 38, 22, 39, 21, 24, 40, 10, 4, 26, 18, 12, 11, 25, 41, 23, 9, 8, 29, 36, 35, 20, 33, 34, 32, 0, 1, 6, 5, 13, 19, 14, 16, 15, 37, 7, 31]\n",
            "Distancia     : 1613\n",
            "1613\n",
            "MULTIARRANQUE 7\n",
            "En la iteracion  29 , la mejor solución encontrada es: [17, 10, 25, 11, 12, 18, 26, 4, 28, 38, 22, 9, 29, 30, 20, 35, 36, 31, 1, 6, 0, 32, 34, 33, 39, 21, 24, 40, 23, 41, 8, 2, 27, 3, 37, 15, 16, 14, 19, 13, 5, 7]\n",
            "Distancia     : 1921\n",
            "1921\n",
            "MULTIARRANQUE 6\n",
            "En la iteracion  31 , la mejor solución encontrada es: [15, 16, 14, 7, 0, 1, 26, 18, 12, 11, 40, 24, 21, 39, 23, 41, 25, 10, 2, 27, 28, 22, 38, 33, 35, 36, 17, 37, 19, 13, 5, 6, 4, 3, 8, 9, 29, 30, 32, 34, 20, 31]\n",
            "Distancia     : 1765\n",
            "1765\n",
            "MULTIARRANQUE 5\n",
            "En la iteracion  30 , la mejor solución encontrada es: [11, 26, 6, 1, 20, 33, 34, 30, 28, 29, 22, 39, 21, 23, 9, 8, 10, 12, 18, 4, 3, 14, 16, 15, 37, 36, 35, 0, 27, 2, 5, 13, 19, 7, 17, 31, 32, 38, 24, 40, 41, 25]\n",
            "Distancia     : 1875\n",
            "1875\n",
            "MULTIARRANQUE 4\n",
            "En la iteracion  28 , la mejor solución encontrada es: [26, 6, 7, 14, 16, 15, 37, 20, 33, 34, 32, 28, 30, 38, 22, 27, 1, 0, 31, 35, 36, 17, 29, 9, 39, 21, 24, 40, 23, 41, 8, 10, 2, 3, 4, 18, 12, 25, 11, 13, 19, 5]\n",
            "Distancia     : 1784\n",
            "1784\n",
            "MULTIARRANQUE 3\n",
            "En la iteracion  34 , la mejor solución encontrada es: [7, 5, 26, 10, 9, 40, 24, 21, 39, 29, 28, 27, 2, 8, 23, 41, 25, 14, 15, 16, 19, 13, 11, 12, 18, 4, 3, 37, 17, 32, 30, 22, 38, 34, 33, 20, 35, 36, 31, 0, 1, 6]\n",
            "Distancia     : 1868\n",
            "1868\n",
            "MULTIARRANQUE 2\n",
            "En la iteracion  36 , la mejor solución encontrada es: [20, 32, 30, 34, 33, 35, 36, 31, 17, 7, 37, 15, 16, 14, 19, 13, 5, 6, 4, 29, 22, 38, 28, 27, 12, 11, 18, 26, 1, 0, 3, 2, 8, 10, 25, 41, 23, 9, 21, 40, 24, 39]\n",
            "Distancia     : 1738\n",
            "1738\n",
            "MULTIARRANQUE 1\n",
            "En la iteracion  34 , la mejor solución encontrada es: [3, 27, 2, 4, 1, 6, 26, 18, 12, 11, 25, 10, 8, 32, 36, 35, 20, 33, 34, 9, 23, 22, 38, 39, 21, 24, 40, 41, 13, 14, 16, 15, 37, 17, 31, 0, 7, 19, 5, 29, 30, 28]\n",
            "Distancia     : 1880\n",
            "1880\n",
            "Mejor solución:  [17, 3, 27, 2, 28, 30, 38, 22, 39, 21, 24, 40, 10, 4, 26, 18, 12, 11, 25, 41, 23, 9, 8, 29, 36, 35, 20, 33, 34, 32, 0, 1, 6, 5, 13, 19, 14, 16, 15, 37, 7, 31]\n",
            "Distancia:  1613\n"
          ]
        }
      ]
    },
    {
      "cell_type": "markdown",
      "source": [
        "# SIMULATED ANNEALING\n",
        "\n",
        "1. Partimos de una solución incial\n",
        "2. Genramos una solución aleatoria en el entorno de vecindad de la solución actual\n",
        "3. Se añade un critetio de aceptación para solución generada. Si la solución generada supone una solución mejor según ese criterio que la mejor solución encontrada hasta el momento, la primera pasa a ser la mejor solución. En caso contrario, aleatoriamente la solución generada puede pasa a ser la mejor solución aunque sea peor según una probabilidad.\n",
        "4. El componente probabilístico que nos permite aceptar soluciones aunque sean peores depende de la temperatura T, la cual disminuye a medida que avanza el proceso, y de la diferencia entre los costes de las soluciones. El objetivo es capacitar al proceso para explorar diferentes subespacios de soluciones.\n",
        "\n",
        "En resumen, se diversifica al comienzo y se intensifica hacia el final del proceso. Esta oscilación vendrá controlada por la temperatura T.\n",
        "\n",
        "Respecto a la probabilidad de aceptar soluciones peores"
      ],
      "metadata": {
        "id": "C0zX9tWOX3FX"
      }
    },
    {
      "cell_type": "code",
      "source": [
        "def genera_vecina_aleatorio(solucion):\n",
        "  #Se eligen dos nodos aleatoriamente\n",
        "  i,j = sorted(random.sample( range(1,len(solucion)) , 2))\n",
        "  \n",
        "  #Devuelve una nueva solución pero intercambiando los dos nodos elegidos al azar\n",
        "  return solucion[:i] + [solucion[j]] + solucion[i+1:j] + [solucion[i]] + solucion[j+1:]\n",
        "  \n",
        " \n",
        "#Funcion de probabilidad para aceptar peores soluciones\n",
        "def probabilidad(T,d):\n",
        "  '''\n",
        "  Arguments:\n",
        "    T: valor de la temperatura\n",
        "    d: diferencia entre el valor de las dos soluciones\n",
        "  Returns:\n",
        "    Valor booleano que representa aceptación o rechazo de una peor solución\n",
        "  '''\n",
        "  if random.random() <  math.exp( -1*d / T)  :\n",
        "    return True\n",
        "  else:\n",
        "    return False\n",
        "\n",
        "#Funcion de descenso de temperatura\n",
        "def bajar_temperatura(T):\n",
        "  '''\n",
        "  Arguments:\n",
        "    T: valor de la temperatura\n",
        "  Returns:\n",
        "    Valor de la temperatura reducido en un 1%\n",
        "  '''\n",
        "  return T*0.99"
      ],
      "metadata": {
        "id": "ELB7UH7mX4Qa"
      },
      "execution_count": null,
      "outputs": []
    },
    {
      "cell_type": "code",
      "source": [
        "def recocido_simulado(problem, TEMPERATURA ):\n",
        "\n",
        "  Nodos = list(problem.get_nodes())\n",
        "  solucion_referencia = crear_solucion(Nodos)\n",
        "  distancia_referencia = distancia_total(solucion_referencia, problem)\n",
        "  \n",
        "  mejor_solucion = []\n",
        "  mejor_distancia = 10e100\n",
        "  \n",
        "  \n",
        "  N=0\n",
        "  while TEMPERATURA > .0001:\n",
        "    N+=1\n",
        "    #Genera una solución vecina\n",
        "    vecina =genera_vecina_aleatorio(solucion_referencia)\n",
        "    \n",
        "    #Calcula su valor(distancia)\n",
        "    distancia_vecina = distancia_total(vecina, problem)\n",
        "      \n",
        "    #Si es la mejor solución de todas se guarda\n",
        "    if distancia_vecina < mejor_distancia:\n",
        "        mejor_solucion = vecina\n",
        "        mejor_distancia = distancia_vecina\n",
        "    \n",
        "    #Si la nueva vecina es mejor se cambia  \n",
        "    #Si es peor se cambia según una probabilidad que depende de T y delta(distancia_referencia - distancia_vecina)\n",
        "    if distancia_vecina < distancia_referencia or probabilidad(TEMPERATURA, abs(distancia_referencia - distancia_vecina)) :\n",
        "      #solucion_referencia = copy.deepcopy(vecina)\n",
        "      solucion_referencia = vecina\n",
        "      distancia_referencia = distancia_vecina\n",
        "\n",
        "    #Bajamos la temperatura\n",
        "    TEMPERATURA = bajar_temperatura(TEMPERATURA)\n",
        " \n",
        "  print(\"La mejor solución encontrada es \" , end=\"\")\n",
        "  print(mejor_solucion)\n",
        "  print(\"con una distancia total de \" , end=\"\")\n",
        "  print(mejor_distancia)\n",
        "  return mejor_solucion\n",
        "\n",
        "solucion_recocido_simulado  = recocido_simulado(problem, 10000000)"
      ],
      "metadata": {
        "colab": {
          "base_uri": "https://localhost:8080/"
        },
        "id": "-1GwBJDvdBon",
        "outputId": "a8565397-454c-435d-edd1-d1ce432f05ce"
      },
      "execution_count": null,
      "outputs": [
        {
          "output_type": "stream",
          "name": "stdout",
          "text": [
            "La mejor solución encontrada es [1, 3, 29, 9, 41, 23, 8, 14, 16, 13, 26, 18, 10, 25, 11, 12, 2, 31, 35, 36, 17, 37, 15, 33, 20, 34, 32, 28, 21, 40, 24, 39, 22, 38, 30, 27, 0, 7, 19, 5, 6, 4]\n",
            "con una distancia total de 1974\n"
          ]
        }
      ]
    },
    {
      "cell_type": "code",
      "source": [],
      "metadata": {
        "id": "2wSRvX5ie1U1"
      },
      "execution_count": null,
      "outputs": []
    }
  ]
}