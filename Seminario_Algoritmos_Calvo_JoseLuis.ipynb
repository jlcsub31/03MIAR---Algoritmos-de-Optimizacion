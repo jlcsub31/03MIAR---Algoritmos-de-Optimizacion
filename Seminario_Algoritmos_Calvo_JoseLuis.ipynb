{
 "cells": [
  {
   "cell_type": "markdown",
   "metadata": {
    "id": "hVbXYX-RfPWh"
   },
   "source": [
    "# Algoritmos de optimización - Seminario<br>\n",
    "Nombre y Apellidos: José Luis Calvo Subirá\n",
    "\n",
    "Url: https://colab.research.google.com/drive/1pKZPoUY5cYDaJgkjOGoDV6GDzQqUJ36t?usp=sharing\n",
    "\n",
    "GitHub: https://github.com/jlcsub31/03MIAR---Algoritmos-de-Optimizacion\n",
    "\n",
    "Problema:\n",
    "> 1. Sesiones de doblaje <br>\n",
    ">2. Organizar los horarios de partidos de La Liga <br>\n",
    ">3. Combinar cifras y operaciones\n",
    "\n",
    "**Descripción del problema:**\n",
    "\n",
    "Se precisa coordinar el doblaje de una película. Los actores del doblaje deben coincidir en las\n",
    "tomas en las que sus personajes aparecen juntos en las diferentes tomas. Los actores de\n",
    "doblaje cobran todos la misma cantidad por cada día que deben desplazarse hasta el estudio de\n",
    "grabación independientemente del número de tomas que se graben. No es posible grabar más\n",
    "de 6 tomas por día. El objetivo es planificar las sesiones por día de manera que el gasto por los\n",
    "servicios de los actores de doblaje sea el menor posible. Los datos son:\n",
    "\n",
    "- Número de actores: 10\n",
    "- Número de tomas : 30\n",
    "- Actores/Tomas : https://bit.ly/36D8IuK\n",
    "    - 1 indica que el actor participa en la toma\n",
    "    - 0 en caso contrario\n",
    "\n",
    "(*) La respuesta es obligatoria\n",
    "\n",
    "\n",
    "\n",
    "\n",
    "\n",
    "                                        "
   ]
  },
  {
   "cell_type": "code",
   "execution_count": 333,
   "metadata": {},
   "outputs": [],
   "source": [
    "#IMPORTS\n",
    "\n",
    "#!!!!!!!!!!!!!!!!!!!!!!!!!!!!!!\n",
    "# EJECUTAR ANTES DE CONTINUAR !\n",
    "#!!!!!!!!!!!!!!!!!!!!!!!!!!!!!!\n",
    "import random\n",
    "import math\n",
    "import numpy as np"
   ]
  },
  {
   "cell_type": "code",
   "execution_count": 57,
   "metadata": {},
   "outputs": [],
   "source": [
    "tomas_vs_actores = np.array([\n",
    "[1, 1, 1, 1, 1, 0, 0, 0, 0, 0],\n",
    "[0, 0, 1, 1, 1, 0, 0, 0, 0, 0],\n",
    "[0, 1, 0, 0, 1, 0, 1, 0, 0, 0],\n",
    "[1, 1, 0, 0, 0, 0, 1, 1, 0, 0],\n",
    "[0, 1, 0, 1, 0, 0, 0, 1, 0, 0],\n",
    "[1, 1, 0, 1, 1, 0, 0, 0, 0, 0],\n",
    "[1, 1, 0, 1, 1, 0, 0, 0, 0, 0],\n",
    "[1, 1, 0, 0, 0, 1, 0, 0, 0, 0],\n",
    "[1, 1, 0, 1, 0, 0, 0, 0, 0, 0],\n",
    "[1, 1, 0, 0, 0, 1, 0, 0, 1, 0],\n",
    "[1, 1, 1, 0, 1, 0, 0, 1, 0, 0],\n",
    "[1, 1, 1, 1, 0, 1, 0, 0, 0, 0],\n",
    "[1, 0, 0, 1, 1, 0, 0, 0, 0, 0],\n",
    "[1, 0, 1, 0, 0, 1, 0, 0, 0, 0],\n",
    "[1, 1, 0, 0, 0, 0, 1, 0, 0, 0],\n",
    "[0, 0, 0, 1, 0, 0, 0, 0, 0, 1],\n",
    "[1, 0, 1, 0, 0, 0, 0, 0, 0, 0],\n",
    "[0, 0, 1, 0, 0, 1, 0, 0, 0, 0],\n",
    "[1, 0, 1, 0, 0, 0, 0, 0, 0, 0],\n",
    "[1, 0, 1, 1, 1, 0, 0, 0, 0, 0],\n",
    "[0, 0, 0, 0, 0, 1, 0, 1, 0, 0],\n",
    "[1, 1, 1, 1, 0, 0, 0, 0, 0, 0],\n",
    "[1, 0, 1, 0, 0, 0, 0, 0, 0, 0],\n",
    "[0, 0, 1, 0, 0, 1, 0, 0, 0, 0],\n",
    "[1, 1, 0, 1, 0, 0, 0, 0, 0, 1],\n",
    "[1, 0, 1, 0, 1, 0, 0, 0, 1, 0],\n",
    "[0, 0, 0, 1, 1, 0, 0, 0, 0, 0],\n",
    "[1, 0, 0, 1, 0, 0, 0, 0, 0, 0],\n",
    "[1, 0, 0, 0, 1, 1, 0, 0, 0, 0],\n",
    "[1, 0, 0, 1, 0, 0, 0, 0, 0, 0]])"
   ]
  },
  {
   "cell_type": "markdown",
   "metadata": {
    "id": "3_-exlrTgLd-"
   },
   "source": [
    "**(*)¿Cuantas posibilidades hay sin tener en cuenta las restricciones?** <br>\n",
    "\n",
    "Asumiendo que todas las tomas pueden doblarse en un día (no existe la restricción de 6 tomas/día), todos los actores podrían acudir el mismo día. En tal caso, el gasto sería independiente del orden en el que se realizan las tomas y participan los actores puesto que cobran por día. Ciertamente, podrían darse diversas combinaciones en cuanto al doblaje de tomas, pero el gasto es por día y no por toma, de modo que su valor final no se vería afectado por tales combianciones. En consecuencia, solo existiría una solución.\n",
    "\n",
    "**¿Cuantas posibilidades hay teniendo en cuenta todas las restricciones.**\n",
    "\n",
    "Si consideramos el caso en el que únicamente se pueden realizar 6 tomas/día, entonces el problema consiste en obtener las posibles combinaciones resultantes de elegir 6 tomas dentro de un conjunto de 30. Es importante destacar que no debe existir repetición y por supuesto el orden de elección sí que importa\n",
    "\n",
    "\n",
    "$$ V^k_{n} = \\frac{n}{(n-k)!} = \\frac{30}{(30-6)!}$$\n",
    "\n",
    "que resulta en más de 400 millones de combinaciones\n",
    "\n"
   ]
  },
  {
   "cell_type": "markdown",
   "metadata": {
    "id": "dzynfVJahHoY"
   },
   "source": [
    "## Modelo para el espacio de soluciones\n",
    "\n",
    "**(*) ¿Cual es la estructura de datos que mejor se adapta al problema? Argumentalo.(Es posible que hayas elegido una al principio y veas la necesidad de cambiar, arguentalo)**\n"
   ]
  },
  {
   "cell_type": "markdown",
   "metadata": {
    "id": "xFIJrOwKi2Ti"
   },
   "source": [
    "Dado que el número total de tomas es de 30, y la restricción nos impone considerar un máximo de 6 tomas por día, asumiremos que el doblaje completo puede realizarse como mínimo en un total de 5 días. Además, teniendo en cuenta que cada actor cobra por día, es muy probable que la solución comprenda un total de 5 días. Sin embargo, con las restricciones impuestas, en este punto del modelado no podemos garantizar que exista una solución que reparta el doblaje de las tomas en 5 días. Si posteriormente se observa que no podemos alcanzar una solución, el modelo para el espacio de soluciones deberá revisarse.\n",
    "\n",
    "Por ahora, considerando que la solución constará de 5 días, el modelo elegido consiste en una matriz 5x6, en el que cada fila representa un día, y cada columna representa la toma a doblar."
   ]
  },
  {
   "cell_type": "code",
   "execution_count": 58,
   "metadata": {
    "id": "38c-7-ejhJmA"
   },
   "outputs": [
    {
     "name": "stdout",
     "output_type": "stream",
     "text": [
      "[[ 1 21  3 18 24  2]\n",
      " [20 11 19  6 12  4]\n",
      " [22 14  5 29 23 25]\n",
      " [ 8 10 15 13 26  9]\n",
      " [27 28 16 17  7 30]]\n"
     ]
    }
   ],
   "source": [
    "# FILA i -> día i\n",
    "# COLUMNA j -> toma j\n",
    "\n",
    "array = np.arange(1,31)\n",
    "np.random.shuffle(array)\n",
    "\n",
    "#Ejemplo de la estructura de una solucion\n",
    "solucion_ejemplo = array.reshape((5,6))\n",
    "print(solucion_ejemplo)"
   ]
  },
  {
   "cell_type": "markdown",
   "metadata": {
    "id": "7Z9U2W7bi-XS"
   },
   "source": [
    "## Según el modelo para el espacio de soluciones\n",
    "\n",
    "**(*)¿Cual es la función objetivo?**\n",
    "\n",
    "**(*)¿Es un problema de maximización o minimización?**\n",
    "\n",
    "La función objectivo consistirá en una función lineal que modelice el coste total de llevar a cabo el doblaje de todas las tomas. La única variable en este problema que actúa sobre el coste final es el salario de los actores (por día). Se debe alcanzar una solución que proporcione un coste mínimo (**minimización**).\n",
    "\n",
    "Dicho coste dependerá del número de días que los actores deban acudir al estudio de doblaje."
   ]
  },
  {
   "cell_type": "code",
   "execution_count": 180,
   "metadata": {},
   "outputs": [],
   "source": [
    "def get_day_cost(day, data):\n",
    "    '''\n",
    "    Arguments:\n",
    "        day: array con las tomas que van a doblarse en un dia\n",
    "        data: matriz de datos originales del problema\n",
    "    Returns:\n",
    "        Coste total del dia, o lo que es lo mismo, numero de actores que han paricipado\n",
    "        durante el dia\n",
    "    '''\n",
    "    #Day contiene el identificador de las tomas, se resta uno porque los arrays empiezan en\n",
    "    #la posición 0\n",
    "    mask = day - 1\n",
    "\n",
    "    #Operaciones realizadas en este comando:\n",
    "    # - data[mask,:]: obtiene las filas de la matriz original correspondientes a las\n",
    "    #   tomas del dia.\n",
    "    # - np.max(data[mask,:], axis=0): obtiene el maximo valor de cada columna de la matriz obtenida\n",
    "    #   en el paso anterior. Si el actor ha participado en alguna toma del día, devolverá 1. Si no ha participado\n",
    "    #   en ninguna, devolvera un cero.\n",
    "    # - np.sum(np.max(data[mask,:], axis=0)): suma del array obtenido en el paso anterior. En otras palabras,\n",
    "    #   número de actores partcipantes en las sesiones del día\n",
    "    \n",
    "    day_cost = np.sum(np.max(data[mask,:], axis=0))\n",
    "\n",
    "    return day_cost\n",
    "\n",
    "def get_solution_cost(solution, data):\n",
    "    '''\n",
    "    Arguments:\n",
    "        solution: solución a evaluar\n",
    "        data: matriz de datos originales del problema, que realciona las tomas con los\n",
    "        actores\n",
    "    Returns:\n",
    "        Coste total de la solución de entrada\n",
    "    '''\n",
    "    total_cost = 0\n",
    "    \n",
    "    #Iteramos sobre cada día de la solución de entrada\n",
    "    for day in solution:\n",
    "        day_cost = get_day_cost(day, data)\n",
    "        \n",
    "        #Coste acumulado\n",
    "        total_cost += day_cost \n",
    "    return total_cost"
   ]
  },
  {
   "cell_type": "code",
   "execution_count": 181,
   "metadata": {},
   "outputs": [
    {
     "name": "stdout",
     "output_type": "stream",
     "text": [
      "38\n"
     ]
    }
   ],
   "source": [
    "# Coste de la solución de ejemplo\n",
    "x = get_solution_cost(solucion_ejemplo, tomas_vs_actores)\n",
    "\n",
    "print(x)"
   ]
  },
  {
   "cell_type": "markdown",
   "metadata": {},
   "source": [
    "En el [anexo 1](#anexo1) propongo una implementación más detallada y exponiendo razonadamente en el código cuál es la finalidad de cada línea. También se presenta un ejemplo, sacando logs en consola, de la obtención del coste de la solución de ejemplo."
   ]
  },
  {
   "cell_type": "markdown",
   "metadata": {},
   "source": [
    "## Diseña un algoritmo para resolver el problema por fuerza bruta\n",
    "\n",
    "**WARNING**: Cuidado al ejecutar"
   ]
  },
  {
   "cell_type": "code",
   "execution_count": 90,
   "metadata": {
    "id": "CJb5sQ0qkENy"
   },
   "outputs": [],
   "source": [
    "# Se usa itertools para calcular las posibles soluciones\n",
    "def variations(n, k):\n",
    "    '''\n",
    "    Arguments:\n",
    "        n: tamaño total del conjunto de elementos\n",
    "        k: tamaño de los subconjuntos\n",
    "    Returns:\n",
    "        Lista de las posibles soluciones\n",
    "    '''\n",
    "    return list(itertools.permutations(np.arange(1,n+1), k))\n",
    "\n",
    "def brute_force(data, m = 6):\n",
    "    '''\n",
    "    Arguments:\n",
    "        data: matriz de datos originales del problema, que relaciona las tomas con los\n",
    "        actores\n",
    "        m: tamaño de los subconjuntos\n",
    "    Returns:\n",
    "        Solución de coste menor\n",
    "        Valor del coste total\n",
    "    '''\n",
    "    min_cost = float('inf')\n",
    "    min_cost_sol = []\n",
    "\n",
    "    n = len(data)\n",
    "    restriction = m\n",
    "    all_solutions = variations(n, restriction)\n",
    "\n",
    "    for sol in all_solutions:\n",
    "        sol_cost = get_solution_cost(sol, data)\n",
    "        if sol_cost < min_cost:\n",
    "            min_cost_sol = sol\n",
    "            min_cost = sol_cost\n",
    "    return min_cost_sol, min_cost\n",
    "\n",
    "#sol_brute_force, cost_brute_force = brute_force(tomas_vs_actores)\n",
    "\n",
    "# print(sol_brute_force)\n",
    "# print(cost_brute_force)"
   ]
  },
  {
   "cell_type": "markdown",
   "metadata": {
    "id": "tgrnsC2nkFa8"
   },
   "source": [
    "**Calcula la complejidad del algoritmo por fuerza bruta**"
   ]
  },
  {
   "cell_type": "markdown",
   "metadata": {
    "id": "9eUd3xwckP68"
   },
   "source": [
    "La función 'permutations' de itertools genera todas las soluciones existentes, recordando de apartados anteriores, este espacio esta definido por\n",
    "\n",
    "$$ V^k_{n} = \\frac{n}{(n-k)!} $$\n",
    "\n",
    "De este modo la complejidad de este algoritmo basado en la fuerza bruta es de $O(n!)$"
   ]
  },
  {
   "cell_type": "markdown",
   "metadata": {
    "id": "txbrmLmskReM"
   },
   "source": [
    "### (*)Diseña un algoritmo que mejore la complejidad del algortimo por fuerza bruta. Argumenta porque crees que mejora el algoritmo por fuerza bruta"
   ]
  },
  {
   "cell_type": "markdown",
   "metadata": {},
   "source": [
    "Debido a la complejidad del problema que nos ocupa, usar algoritmos deterministas que nos aseguren la solución óptima queda descartado. Los algoritmo heurísticos ofrecen buenas soluciones en problemas en los que los de tipo determinista no son viables, aunque no hay forma de conocer el grado de aproximación a la solución óptima. \n",
    "\n",
    "Un aspecto a tener en cuenta a la hora de decidirse por una técnica metaheurística es el riesgo de quedar atrapados en óptmios locales (en este caso, mínimos). Es por ello que el diseño del agoritmo debe presentar un equilibrio entre intensificación y diversificación, es decir, centrarse en zonas consideredas a la vez que explora regiones del espacio de soluciones desconocidas. Una forma de escapar de los mínimos locales es aceptar en ocasiones soluciones peores. La técnica de \"simulated annealing\" introduce una probabilidad de aceptación de este tipo de soluciones.\n",
    "\n",
    "La técnica de \"recocido simulado\" se basa en los procesos metalúrgicos en los que un material es calentado hasta una elevada temperatura y enfriado posteriormente. A altas temperaturas, los átomos pueden moverse impredeciblemente, a menudo elminando impurezas a medida que el material se enfría en un cristal puro.\n",
    "\n",
    "De forma similar, el algoritmo a diseñar comenzará con una elevada temperatura T, y se ira reduciendo de tal forma que cuando su valor descienda de una determinada cantidad, el algoritmo se detendrá (criterio de parada). La función de la temperatura T no consiste únicamente en actuar como cirterio de parada, ya que la probabilidad de aceptación mencionada anteriormente también depende de ella sgún la siguiente fórmula:\n",
    "\n",
    "$$ p = e^{\\frac{-d}{T}} $$\n",
    "\n",
    "donde $d$ es la diferencia del valor de la función objetivo evaluada en dos soluciones distintas.\n",
    "\n",
    "Es importante destacar, que cuanto mayor sea el valor de T, la probabilidad de aceptación de una mala solución crece permitiendo diversificar en el espacio de soluciones, mientras que a medidad que T reduce su valor, dicha probabilidad decrece y por lo tanto estaremos intensificando la búsqueda a partir de una buena solución.\n",
    "\n",
    "Los conceptos teóricos anteriores se traducen en el siguiente pseudocódigo:\n",
    "\n",
    "    T ← Initialise T <br/>\n",
    "    S_ref ← Initialise S_ref <br/>\n",
    "    S_opt ← Initialise S_opt <br/>\n",
    "        while T > k: <br/>\n",
    "            S_neighbor ← a randomly selected successor of S\n",
    "            if f(S_neighbor) < f(S_opt):\n",
    "                S_opt ← S_neighbor\n",
    "            random r(0,1)\n",
    "            Δf ← |f(S_neighbor) - f(S_ref)|\n",
    "            if f(S_neighbor) < f(S_ref) or r > exp(-Δf/T)\n",
    "                S_ref ← S_neighbor\n",
    "            T ← decrease_T(t)\n",
    "        end while\n",
    "    return S_opt\n",
    "    \n",
    "- Decenso de temperatura: **decrease_T**\n",
    "- Probabilidad de aceptación: **is_solution_accepted**\n",
    "- Inicialización de S_ref: **generate_random_solution**, **generate_random_solution_search**\n",
    "- Cálculo de S_neighbor: **generate_neighbor**\n",
    "\n",
    "El diseño de la función de generación de soluciones vecinas es clave en este algoritmo. Una solución tiene forma de matriz en la que las filas representan los días, y las columnas las tomas para ese día. El problema no impone restricciones sobre el orden de las tomas en un mismo día, de modo que intercambiar valores únicamente a lo largo de las filas de matriz, no produce ningún cambio al evaluar las soluciones con la función de evaluación (la función de coste). Lo que nos interesa es realizar cambios a lo largo de las columnas. Por lo tanto, se ha optado por realizar intercambios aleatorios a lo largo de las columans de acuerdo a los siguientes puntos:\n",
    "- Se obtiene aleatoriamente el número de columnas a cambiar\n",
    "- Se obtienen aleatoriamente las columnas sobre las que actuar\n",
    "- Se realizan intercambios aleatorias en cada una de las columnas afectadas\n",
    "\n",
    "Ejemplo:\n",
    "\n",
    "    [[ 1 21  3 18 24  2]\n",
    "     [20 11 19  6 12  4]\n",
    "     [22 14  5 29 23 25]\n",
    "     [ 8 10 15 13 26  9]\n",
    "     [27 28 16 17  7 30]]\n",
    "     \n",
    "    - Número de columnas a cambiar: 4\n",
    "    - columnas sobre las que actuar: [4 2 5 3], columnas 0 y 1 no se alterarán\n",
    "    - Intercambios en las columnas seleccionadas, dando como resultado:\n",
    "    \n",
    "    [[ 1 21 19 29 24 25]\n",
    "     [20 11  3  6 12  4]\n",
    "     [22 14 16 17 23  2]\n",
    "     [ 8 10 15 13  7 30]\n",
    "     [27 28  5 18 26  9]]\n",
    "    "
   ]
  },
  {
   "cell_type": "markdown",
   "metadata": {},
   "source": [
    "A continuación se definen las funciones necesarias para el diseño del algortimo. En el [anexo 1](#anexo1) se presenta un ejemplo de algunas de ellas proporcionando 'logs' en consola."
   ]
  },
  {
   "cell_type": "code",
   "execution_count": 337,
   "metadata": {},
   "outputs": [],
   "source": [
    "def decrease_T(T):\n",
    "    '''\n",
    "    Reduce el valor de T\n",
    "    Arguments:\n",
    "        T: valor de la temperatura\n",
    "    Returns:\n",
    "        Valor de la temperatura reducido en un 1%\n",
    "    '''\n",
    "    return T*0.99\n",
    "\n",
    "def is_solution_accepted(T, d):\n",
    "    '''\n",
    "    Probabilidad de aceptación de una solución\n",
    "    Arguments:\n",
    "        T: valor de la temperatura\n",
    "        d: diferencia entre el valor de las dos soluciones\n",
    "    Returns:\n",
    "        Valor booleano que representa aceptación o rechazo de una peor solución\n",
    "    '''\n",
    "    if random.random() <  math.exp( -1*d / T)  :\n",
    "        return True\n",
    "    else:\n",
    "        return False\n",
    "\n",
    "def generate_random_solution():\n",
    "    '''\n",
    "    Arguments: void\n",
    "    Returns:\n",
    "        Solución aleatoria\n",
    "    '''\n",
    "    array = np.arange(1,31)\n",
    "    np.random.shuffle(array)\n",
    "\n",
    "    return array.reshape((5,6))\n",
    "\n",
    "def generate_neighbor(ref, data, n=10, verbose=False):\n",
    "    '''\n",
    "    Desc: Vecindario de una solución, se obtienen n soluciones vecinas y se devuelve\n",
    "    la mejor de a cuerdo a la función de evaluación\n",
    "    Arguments:\n",
    "        ref: Solución a partir de la cual serán generadas soluciones vecinas\n",
    "        data: matriz de datos originales del problema, que relaciona las tomas con los\n",
    "        actores \n",
    "        n: número de soluciones vecinas a generar\n",
    "        verbose: escribir logs por pantalla\n",
    "    Returns:\n",
    "        La mejor solución vecina según la función de evaluación, es decir, la función\n",
    "        objetivo que calcula el coste\n",
    "    '''\n",
    "    \n",
    "    neighbor_min_cost = []\n",
    "    min_cost = float('inf')\n",
    "    if(verbose): print(ref)\n",
    "    \n",
    "    #n generaciones\n",
    "    for it in np.arange(n):\n",
    "        if(verbose): print(f'Vecino número: {it + 1}')\n",
    "        \n",
    "        neighbor = ref.copy()\n",
    "        \n",
    "        #Se eligen al azar n columnas para mezclar, con un mínimo de 2\n",
    "        number_of_columns_to_permute = random.randint(2,ref.shape[1]-1)\n",
    "        #Se eligen al azar las n columnas para mezclar\n",
    "        colmuns_to_permute = np.random.choice(ref.shape[1], number_of_columns_to_permute, replace=False)\n",
    "\n",
    "        if(verbose):\n",
    "            print('Columnas a mezclar')\n",
    "            print(colmuns_to_permute)\n",
    "            \n",
    "        for i in colmuns_to_permute:\n",
    "            copy_column = neighbor[:,i]\n",
    "            np.random.shuffle(copy_column)\n",
    "            neighbor[:,i] = copy_column\n",
    "        \n",
    "        #Se calcula el coste de la solución vecina\n",
    "        cost_neighbor = get_solution_cost(neighbor, data)\n",
    "        \n",
    "        if(verbose):\n",
    "            print('Solución vecina')\n",
    "            print(neighbor)\n",
    "            print('Coste de la solución vecina')\n",
    "            print(cost_neighbor)\n",
    "            print('---------------------------')\n",
    "\n",
    "        #Si la solución vecina en consideración tiene coste menor que la mejor\n",
    "        #solución vecina encontrada hasta el momento, la primera pasa a ser la\n",
    "        #mejor\n",
    "        if cost_neighbor < min_cost:\n",
    "            min_cost = cost_neighbor\n",
    "            neighbor_min_cost = neighbor\n",
    "            \n",
    "    if(verbose):\n",
    "        print('***************************')\n",
    "        print('Mejor solución vecina:')\n",
    "        print(neighbor_min_cost)\n",
    "        print('Coste de la mejor solución vecina:')\n",
    "        print(min_cost)\n",
    "        print('***************************')\n",
    "        \n",
    "    return neighbor_min_cost, min_cost\n",
    "    "
   ]
  },
  {
   "cell_type": "markdown",
   "metadata": {},
   "source": [
    "Al comienzo del algoritmo, debemos inicializar una posible solución. Una posibilidad es elegir una al azar. Otra más recomendable es elegir una solución inicial que haya sido obtenida a través de otra técnica. En este caso, la función **simulated_annealing** aceptará un valor \"flag\" para activar/desactivar la inicialización de la solución mediante una búsqueda aleatoria rápida de acuerdo a la siguiente función:"
   ]
  },
  {
   "cell_type": "code",
   "execution_count": 334,
   "metadata": {},
   "outputs": [],
   "source": [
    "def generate_random_solution_search(data = tomas_vs_actores, n = 10):\n",
    "    '''\n",
    "    Búsqueda aleatoria de una solución.\n",
    "    Arguments:\n",
    "        data: matriz de datos originales del problema, que relaciona las tomas con los\n",
    "        actores\n",
    "        n: número de iteraciones. Criterio de parada\n",
    "    Returns: mejor solución obtenida aleatoriamente\n",
    "    '''\n",
    "    min_cost = float('inf')\n",
    "    random_solution_selected = []\n",
    "    \n",
    "    for i in np.arange(n):\n",
    "        array = np.arange(1,31)\n",
    "        np.random.shuffle(array)\n",
    "        random_solution = array.reshape((5,6))\n",
    "        cost_random_solution = get_solution_cost(random_solution, data)\n",
    "        \n",
    "        if cost_random_solution < min_cost:\n",
    "            min_cost = cost_random_solution\n",
    "            random_solution_selected = random_solution\n",
    "            \n",
    "    return random_solution_selected, min_cost\n",
    "            "
   ]
  },
  {
   "cell_type": "code",
   "execution_count": 335,
   "metadata": {
    "id": "m1eyM21Vkabg"
   },
   "outputs": [],
   "source": [
    "def simulated_annealing(data, T, initialise_random_search=False):\n",
    "    '''\n",
    "    Alcanza una solución del problema de entrada. No tiene por qué devolver el óptimo\n",
    "    global, lo más probable es que se trate de un óptimo local.\n",
    "    Arguments:\n",
    "        data: matriz de datos originales del problema, que relaciona las tomas con los\n",
    "        actores\n",
    "        T: temperatura inicial\n",
    "        initialise_random_search:\n",
    "            True: la solución inicial se calcula con búsqueda aleatoria\n",
    "            False: se genera una solución aleatoria como solución inicial\n",
    "    Returns:\n",
    "        Solución óptima encontrada.\n",
    "    '''\n",
    "    print(\"Starting simulated_annealing...\")\n",
    "    reference_solution = []\n",
    "    reference_solution_cost = 0\n",
    "    \n",
    "    if(initialise_random_search):\n",
    "        reference_solution, reference_solution_cost = generate_random_solution_search(data)\n",
    "    else:\n",
    "        reference_solution = generate_random_solution()\n",
    "        reference_solution_cost = get_solution_cost(reference_solution, data)\n",
    "    \n",
    "    print(\"Solución incial:\")\n",
    "    display(reference_solution)\n",
    "    print(f\"Con un coste de: {reference_solution_cost}\")\n",
    "    print('----------------')\n",
    "  \n",
    "    optimal_solution = []\n",
    "    optimal_solution_cost = float('inf')\n",
    "  \n",
    "    iterator =0\n",
    "    print(\"Starting loops...\")\n",
    "    while T > .0001:\n",
    "        iterator += 1\n",
    "        neighbor_solution, neighbor_solution_cost = generate_neighbor(reference_solution, data, n=50)\n",
    "\n",
    "        # Si es la mejor solución de todas se guarda\n",
    "        if neighbor_solution_cost < optimal_solution_cost:\n",
    "            optimal_solution = neighbor_solution\n",
    "            optimal_solution_cost = neighbor_solution_cost\n",
    "\n",
    "        if neighbor_solution_cost < reference_solution_cost or is_solution_accepted(T, abs(reference_solution_cost - neighbor_solution_cost)):\n",
    "            reference_solution = neighbor_solution\n",
    "            reference_solution_cost = neighbor_solution_cost\n",
    "\n",
    "        #Se disminuye la temperatura\n",
    "        T = decrease_T(T)\n",
    "\n",
    "    print(iterator)\n",
    "    return optimal_solution, optimal_solution_cost"
   ]
  },
  {
   "cell_type": "markdown",
   "metadata": {
    "id": "eGDB4K6uk1iN"
   },
   "source": [
    "### **(*)Calcula la complejidad del algoritmo**"
   ]
  },
  {
   "cell_type": "markdown",
   "metadata": {
    "id": "NhpTh_BPk1ms"
   },
   "source": [
    "- Bucle while: con una reducción de un 1% de T en cada iteración, el número de iteraciones n vendrá dado por:\n",
    "$$0.99^{n}*T > 0.0001$$\n",
    "\n",
    "De esta forma n se calcularía como:\n",
    "\n",
    "$$ n = log_{0.99}(0.0001/T)$$ (1)\n",
    "\n",
    "Para T = 10000,\n",
    "\n",
    "$$ n = 1832 iteraciones $$\n",
    "\n",
    "El número total será entonces 1833 ya que $0.99^{1832}*10000 = 0.0001008 > 0.0001$ por lo que se realiza una iteración más. El número de iteraciones depende por tanto de la temperatura según (1). Si hacemos un cambio de base para obtener la expresión logarítmica en base decimal (según la propiedad 1 del [anexo 2](#anexo2)), el número de iteraciones podrá expresarse como:\n",
    "\n",
    "$$ n = log_{0.99}(0.0001/T = log(0.0001/T) * log_{0.99}(10) = log(0.0001/T) * -229.105 $$ (2)\n",
    "\n",
    "Aplicando ahora la propiedad 2 de del [anexo 2](#anexo2), n será igual a:\n",
    "\n",
    "$$ n = 229.105*log(T) - 229.105*log(0.0001) $$\n",
    "\n",
    "- Operaciones en el bucle while:\n",
    "\n",
    "    La operación predominante es la generación de soluciones vecinas:\n",
    "\n",
    "    - se realizan m iteraciones, siendo m el número de soluciones vecinas que se quieren generar\n",
    "    - En ducho bucle, predomina la función get_solution_cost\n",
    "        - Se realizan un total de 5 iteraciones de get_day_cost (una por cada día), procedente de 30 tomas divido para 6 tomas/día\n",
    "            - Numpy max -> $O(n)$, siendo n el número de actores\n",
    "            - Numpy max -> $O(n)$, siendo n el número de actores\n",
    "            - Slicing de tamaño k = 6 (6 tomas por día) -> $O(6)$ de acuerdo con https://wiki.python.org/moin/TimeComplexity\n",
    "        \n",
    "    Complejidad en función de los datos de entrada: $O(n_{vecinas}*n_{días}/n_{tomas/día}*(n_{actores}+n_{tomas}))$\n",
    "    \n",
    "Complejidad: $$O(n_{vecinas}*n_{días}/n_{tomas/día}*(n_{actores}+n_{tomas}))*(229.105*log(T) - 229.105*log(0.0001))$$\n"
   ]
  },
  {
   "cell_type": "markdown",
   "metadata": {
    "id": "3M6QjTsSkmYe"
   },
   "source": [
    "### **Ejecución del algoritmo**\n",
    "\n",
    "- Según el problema (y tenga sentido), diseña un juego de datos de entrada aleatorios\n",
    "\n",
    "- Aplica el algoritmo al juego de datos generado"
   ]
  },
  {
   "cell_type": "code",
   "execution_count": 330,
   "metadata": {
    "id": "sJ-N2etjkyWc"
   },
   "outputs": [
    {
     "name": "stdout",
     "output_type": "stream",
     "text": [
      "Starting simulated_annealing...\n",
      "Solución incial:\n"
     ]
    },
    {
     "data": {
      "text/plain": [
       "array([[13, 19,  5,  2, 30, 27],\n",
       "       [ 9,  3, 21, 29, 23,  4],\n",
       "       [24,  1, 28, 26, 12, 15],\n",
       "       [11, 10, 14, 17,  8, 18],\n",
       "       [25, 16, 22,  6, 20,  7]])"
      ]
     },
     "metadata": {},
     "output_type": "display_data"
    },
    {
     "name": "stdout",
     "output_type": "stream",
     "text": [
      "Con un coste de: 35\n",
      "----------------\n",
      "1833\n",
      "Solución óptima alcanzada:\n"
     ]
    },
    {
     "data": {
      "text/plain": [
       "array([[11, 10, 21, 26,  8, 15],\n",
       "       [25, 16, 22,  2, 30, 27],\n",
       "       [ 9,  1, 28, 29, 12,  7],\n",
       "       [13,  3,  5,  6, 20,  4],\n",
       "       [24, 19, 14, 17, 23, 18]])"
      ]
     },
     "metadata": {},
     "output_type": "display_data"
    },
    {
     "name": "stdout",
     "output_type": "stream",
     "text": [
      "Con un coste de: 30\n"
     ]
    }
   ],
   "source": [
    "#Ejecución del algoritmo SIMULATED ANNEALING\n",
    "T = 10000\n",
    "sol_simulated_annealing, cost_simulated_annealing = simulated_annealing(tomas_vs_actores, T, initialise_random_search=True)\n",
    "\n",
    "print(\"Solución óptima alcanzada:\")\n",
    "display(sol_simulated_annealing)\n",
    "print(f\"Con un coste de: {cost_simulated_annealing}\")"
   ]
  },
  {
   "cell_type": "markdown",
   "metadata": {
    "id": "eTFWUJQrtGcv"
   },
   "source": [
    "### **Enumera las referencias que has utilizado(si ha sido necesario) para llevar a cabo el trabajo**"
   ]
  },
  {
   "cell_type": "markdown",
   "metadata": {
    "id": "YKQ_mRBttWsP"
   },
   "source": [
    "Las únicas referencias usadas en la realización de este trabajo han sido las diapositivas de clase, así como el manual de la asignatura y lo aprendido en las activadas guiadas."
   ]
  },
  {
   "cell_type": "markdown",
   "metadata": {
    "id": "kAkDPUyRtYyH"
   },
   "source": [
    "### **Describe brevemente las lineas de como crees que es posible avanzar en el estudio del problema. Ten en cuenta incluso posibles variaciones del problema y/o variaciones al alza del tamaño**"
   ]
  },
  {
   "cell_type": "markdown",
   "metadata": {
    "id": "IE0uZmo-tZu-"
   },
   "source": [
    "Existen muchas posibilidades de ampliar y combinar las restricciones del problema dado. Por ejemplo, sería interesante considerar la posibilidad de realizar \"horas extra\". Es decir, se le podría pedir a un actor realizar una toma más por día a cambio de un suplemento en el salario (lo cual afectaría a nuestra función objetivo). No obstante, cabría la posibilidad de que añadir una secuencia más sobre el salario de un actor permitiera que en otro día de la semana, dos de ellos no tuviesen la obligación de venir, por ejemplo, reduciendo así el coste final.\n",
    "\n",
    "Otra restricción añadida podría ser la imposición de un orden de doblaje de las secuencias. Dadas las características del problema actual, no es necesario tener en consideración el orden de las secuencias, ya sea en el mismo día o en toda la semana (los 5 días)\n",
    "\n",
    "Cualquier restricción adicional que suponga un incremento del espacio de soluciones, complicaría la resolución del problema a través del método propuesto (simulated annealing). Es posible que tuviéramos que recurrir a técnicas poblacionales como los algoritmos genéticos para asegurarnos de que las soluciones descendientes en cada iteración mejoran la población. Además, las restricciones podrían añadirse al problema fácilmente como penalizaciones en la función de evaluación."
   ]
  },
  {
   "cell_type": "markdown",
   "metadata": {},
   "source": [
    "# ANEXO 1<a name=\"anexo1\">"
   ]
  },
  {
   "cell_type": "code",
   "execution_count": 249,
   "metadata": {},
   "outputs": [
    {
     "name": "stdout",
     "output_type": "stream",
     "text": [
      "[[20 14  9  8 25 12]\n",
      " [10  5  1 23 18  7]\n",
      " [ 6 22 24 17 21 30]\n",
      " [29 16 15  3 28 26]\n",
      " [13 19 27  4  2 11]]\n"
     ]
    }
   ],
   "source": [
    "#Solución de ejemplo para el apéndice\n",
    "array = np.arange(1,31)\n",
    "np.random.shuffle(array)\n",
    "\n",
    "#Ejemplo de la estructura de una solucion\n",
    "solucion_ejemplo_apendix = array.reshape((5,6))\n",
    "print(solucion_ejemplo_apendix)"
   ]
  },
  {
   "cell_type": "code",
   "execution_count": 290,
   "metadata": {},
   "outputs": [
    {
     "name": "stdout",
     "output_type": "stream",
     "text": [
      "Secuencias en el día\n",
      "[20 14  9  8 25 12]\n",
      "Mask\n",
      "[19 13  8  7 24 11]\n",
      "Tomas del día relacionadas con los actores\n",
      "[[1 0 1 1 1 0 0 0 0 0]\n",
      " [1 0 1 0 0 1 0 0 0 0]\n",
      " [1 1 0 1 0 0 0 0 0 0]\n",
      " [1 1 0 0 0 1 0 0 0 0]\n",
      " [1 1 0 1 0 0 0 0 0 1]\n",
      " [1 1 1 1 0 1 0 0 0 0]]\n",
      "Partición de los actores\n",
      "[1 1 1 1 1 1 0 0 0 1]\n",
      "7\n",
      "-----------------------------\n",
      "Secuencias en el día\n",
      "[10  5  1 23 18  7]\n",
      "Mask\n",
      "[ 9  4  0 22 17  6]\n",
      "Tomas del día relacionadas con los actores\n",
      "[[1 1 0 0 0 1 0 0 1 0]\n",
      " [0 1 0 1 0 0 0 1 0 0]\n",
      " [1 1 1 1 1 0 0 0 0 0]\n",
      " [1 0 1 0 0 0 0 0 0 0]\n",
      " [0 0 1 0 0 1 0 0 0 0]\n",
      " [1 1 0 1 1 0 0 0 0 0]]\n",
      "Partición de los actores\n",
      "[1 1 1 1 1 1 0 1 1 0]\n",
      "8\n",
      "-----------------------------\n",
      "Secuencias en el día\n",
      "[ 6 22 24 17 21 30]\n",
      "Mask\n",
      "[ 5 21 23 16 20 29]\n",
      "Tomas del día relacionadas con los actores\n",
      "[[1 1 0 1 1 0 0 0 0 0]\n",
      " [1 1 1 1 0 0 0 0 0 0]\n",
      " [0 0 1 0 0 1 0 0 0 0]\n",
      " [1 0 1 0 0 0 0 0 0 0]\n",
      " [0 0 0 0 0 1 0 1 0 0]\n",
      " [1 0 0 1 0 0 0 0 0 0]]\n",
      "Partición de los actores\n",
      "[1 1 1 1 1 1 0 1 0 0]\n",
      "7\n",
      "-----------------------------\n",
      "Secuencias en el día\n",
      "[29 16 15  3 28 26]\n",
      "Mask\n",
      "[28 15 14  2 27 25]\n",
      "Tomas del día relacionadas con los actores\n",
      "[[1 0 0 0 1 1 0 0 0 0]\n",
      " [0 0 0 1 0 0 0 0 0 1]\n",
      " [1 1 0 0 0 0 1 0 0 0]\n",
      " [0 1 0 0 1 0 1 0 0 0]\n",
      " [1 0 0 1 0 0 0 0 0 0]\n",
      " [1 0 1 0 1 0 0 0 1 0]]\n",
      "Partición de los actores\n",
      "[1 1 1 1 1 1 1 0 1 1]\n",
      "9\n",
      "-----------------------------\n",
      "Secuencias en el día\n",
      "[13 19 27  4  2 11]\n",
      "Mask\n",
      "[12 18 26  3  1 10]\n",
      "Tomas del día relacionadas con los actores\n",
      "[[1 0 0 1 1 0 0 0 0 0]\n",
      " [1 0 1 0 0 0 0 0 0 0]\n",
      " [0 0 0 1 1 0 0 0 0 0]\n",
      " [1 1 0 0 0 0 1 1 0 0]\n",
      " [0 0 1 1 1 0 0 0 0 0]\n",
      " [1 1 1 0 1 0 0 1 0 0]]\n",
      "Partición de los actores\n",
      "[1 1 1 1 1 0 1 1 0 0]\n",
      "7\n",
      "-----------------------------\n",
      "COSTE TOTAL: 38\n"
     ]
    }
   ],
   "source": [
    "# Dada la solución de ejemplo y la matriz de datos del problema\n",
    "def get_day_cost_B(day, data):\n",
    "    '''\n",
    "    Arguments:\n",
    "        day: array con las tomas que van a doblarse en un dia\n",
    "        data: matriz de datos originales del problema\n",
    "    Returns:\n",
    "        Coste total del dia, o lo que es lo mismo, numero de actores que han paricipado\n",
    "        durante el dia\n",
    "    '''\n",
    "    #Day contiene el identificador de las tomas, se resta uno porque los arrays empiezan en\n",
    "    #la posición 0\n",
    "    mask = day - 1\n",
    "    print('Secuencias en el día')\n",
    "    print(day)\n",
    "    print('Mask')\n",
    "    print(mask)\n",
    "    \n",
    "    #Filas de las tomas para doblar el día de entrada. Las columnas no se filtran, ya que contienen\n",
    "    #la información sobre los actores\n",
    "    tomas_dia_vs_actores = data[mask,:]\n",
    "    print('Tomas del día relacionadas con los actores')\n",
    "    print(tomas_dia_vs_actores)\n",
    "    \n",
    "    #1 para los que han participado en alguna toma, 0 para los que no\n",
    "    #Al usar la función \"max\", solo se contabiliza a cada actor una vez si procede\n",
    "    actores_participantes_si_no = np.max(data[mask,:], axis=0)\n",
    "    print('Partición de los actores')\n",
    "    print(actores_participantes_si_no)\n",
    "    \n",
    "    day_cost = np.sum(actores_participantes_si_no)\n",
    "\n",
    "    print(day_cost)\n",
    "    print('-----------------------------')\n",
    "    return day_cost\n",
    "\n",
    "\n",
    "def get_solution_cost_B(solution, data):\n",
    "    '''\n",
    "    Arguments:\n",
    "        solution: solución a evaluar\n",
    "        data: matriz de datos originales del problema, que relaciona las tomas con los\n",
    "        actores\n",
    "    Returns:\n",
    "        Coste total de la solución de entrada\n",
    "    '''\n",
    "    total_cost = 0\n",
    "    for day in solution:\n",
    "        day_cost = get_day_cost_B(day, data)\n",
    "        total_cost += day_cost \n",
    "    return total_cost\n",
    "\n",
    "x = get_solution_cost_B(solucion_ejemplo_apendix, tomas_vs_actores)\n",
    "print(f\"COSTE TOTAL: {x}\")"
   ]
  },
  {
   "cell_type": "code",
   "execution_count": 291,
   "metadata": {},
   "outputs": [
    {
     "name": "stdout",
     "output_type": "stream",
     "text": [
      "[[ 1 21  3 18 24  2]\n",
      " [20 11 19  6 12  4]\n",
      " [22 14  5 29 23 25]\n",
      " [ 8 10 15 13 26  9]\n",
      " [27 28 16 17  7 30]]\n",
      "Vecino número: 1\n",
      "Columnas a mezclar\n",
      "[0 1 5 3 2 4]\n",
      "Solución vecina\n",
      "[[22 28 15  6 23  2]\n",
      " [ 8 10  5 13  7 25]\n",
      " [ 1 14  3 17 24  4]\n",
      " [20 11 19 29 26 30]\n",
      " [27 21 16 18 12  9]]\n",
      "Coste de la solución vecina\n",
      "38\n",
      "---------------------------\n",
      "Vecino número: 2\n",
      "Columnas a mezclar\n",
      "[2 0]\n",
      "Solución vecina\n",
      "[[20 21  3 18 24  2]\n",
      " [ 8 11 19  6 12  4]\n",
      " [ 1 14 16 29 23 25]\n",
      " [27 10  5 13 26  9]\n",
      " [22 28 15 17  7 30]]\n",
      "Coste de la solución vecina\n",
      "37\n",
      "---------------------------\n",
      "Vecino número: 3\n",
      "Columnas a mezclar\n",
      "[4 2 5 3]\n",
      "Solución vecina\n",
      "[[ 1 21 19 29 24 25]\n",
      " [20 11  3  6 12  4]\n",
      " [22 14 16 17 23  2]\n",
      " [ 8 10 15 13  7 30]\n",
      " [27 28  5 18 26  9]]\n",
      "Coste de la solución vecina\n",
      "38\n",
      "---------------------------\n",
      "Vecino número: 4\n",
      "Columnas a mezclar\n",
      "[4 5 3 2]\n",
      "Solución vecina\n",
      "[[ 1 21 15 17  7 25]\n",
      " [20 11 19 13 24  4]\n",
      " [22 14 16  6 23 30]\n",
      " [ 8 10  3 18 26  2]\n",
      " [27 28  5 29 12  9]]\n",
      "Coste de la solución vecina\n",
      "39\n",
      "---------------------------\n",
      "Vecino número: 5\n",
      "Columnas a mezclar\n",
      "[4 0 1 3]\n",
      "Solución vecina\n",
      "[[22 10  3 13 23  2]\n",
      " [27 21 19 29 24  4]\n",
      " [ 1 14  5  6 26 25]\n",
      " [20 11 15 18  7  9]\n",
      " [ 8 28 16 17 12 30]]\n",
      "Coste de la solución vecina\n",
      "39\n",
      "---------------------------\n",
      "***************************\n",
      "Mejor solución vecina:\n",
      "[[20 21  3 18 24  2]\n",
      " [ 8 11 19  6 12  4]\n",
      " [ 1 14 16 29 23 25]\n",
      " [27 10  5 13 26  9]\n",
      " [22 28 15 17  7 30]]\n",
      "Coste de la mejor solución vecina:\n",
      "37\n",
      "***************************\n"
     ]
    }
   ],
   "source": [
    "# TEST de la función de generate_neighbor\n",
    "\n",
    "# Cinco generaciones (n=5), verbose = True para sacar los resultados por pantalla\n",
    "sol_test_neighbor, cost_test_neighbor = generate_neighbor(solucion_ejemplo, tomas_vs_actores, n=5, verbose = True)"
   ]
  },
  {
   "cell_type": "markdown",
   "metadata": {},
   "source": [
    "# ANEXO 2<a name=\"anexo2\">"
   ]
  },
  {
   "cell_type": "markdown",
   "metadata": {},
   "source": [
    "PROPIEDAD 1: CAMBIO DE BASE\n",
    "\n",
    "$$ log_{b}(x) = \\frac{log_{c}(x)}{log_{c}(b)} $$\n",
    "\n",
    "PROPIEDAD 2\n",
    "\n",
    "$$ log(\\frac{A}{B}) = log(A) - log(B) $$\n",
    "\n"
   ]
  },
  {
   "cell_type": "code",
   "execution_count": null,
   "metadata": {},
   "outputs": [],
   "source": []
  }
 ],
 "metadata": {
  "colab": {
   "provenance": []
  },
  "kernelspec": {
   "display_name": "Python 3 (ipykernel)",
   "language": "python",
   "name": "python3"
  },
  "language_info": {
   "codemirror_mode": {
    "name": "ipython",
    "version": 3
   },
   "file_extension": ".py",
   "mimetype": "text/x-python",
   "name": "python",
   "nbconvert_exporter": "python",
   "pygments_lexer": "ipython3",
   "version": "3.9.12"
  }
 },
 "nbformat": 4,
 "nbformat_minor": 4
}
